{
 "cells": [
  {
   "cell_type": "code",
   "execution_count": null,
   "id": "4d99d118",
   "metadata": {},
   "outputs": [],
   "source": [
    "1. What exactly is []?\n",
    "A . [] - represents the empty list which contains no items."
   ]
  },
  {
   "cell_type": "code",
   "execution_count": null,
   "id": "b3de798c",
   "metadata": {},
   "outputs": [],
   "source": [
    "2. In a list of values stored in a variable called spam, how would you assign the value 'hello' as the\n",
    "third value? (Assume [2, 4, 6, 8, 10] are in spam.)\n",
    "A. spam[2] = hello\n"
   ]
  },
  {
   "cell_type": "code",
   "execution_count": 2,
   "id": "27394827",
   "metadata": {},
   "outputs": [
    {
     "name": "stdout",
     "output_type": "stream",
     "text": [
      "[2, 4, 6, 8]\n",
      "[2, 4, 'hello', 8]\n"
     ]
    }
   ],
   "source": [
    "# example\n",
    "spam = [2,4,6,8]\n",
    "print(spam)\n",
    "spam[2] = 'hello'\n",
    "print(spam)"
   ]
  },
  {
   "cell_type": "markdown",
   "id": "128becbe",
   "metadata": {},
   "source": [
    "# Let's pretend the spam includes the list ['a','b','c',d'] for the next three queries"
   ]
  },
  {
   "cell_type": "code",
   "execution_count": null,
   "id": "2dcf0d69",
   "metadata": {},
   "outputs": [],
   "source": [
    "3. What is the value of spam[int(int('3'*2)//11)] ?\n",
    "A.  'd'"
   ]
  },
  {
   "cell_type": "code",
   "execution_count": 3,
   "id": "00f84e8d",
   "metadata": {},
   "outputs": [
    {
     "name": "stdout",
     "output_type": "stream",
     "text": [
      "spam[int(int('3'*2)//11)] d\n"
     ]
    }
   ],
   "source": [
    "spam =['a','b','c','d']\n",
    "print(\"spam[int(int('3'*2)//11)]\",spam[int(int('3'*2)//11)])"
   ]
  },
  {
   "cell_type": "code",
   "execution_count": null,
   "id": "a50d72fe",
   "metadata": {},
   "outputs": [],
   "source": [
    "4. What is the value of spam[-1]?\n",
    "A.\"d\""
   ]
  },
  {
   "cell_type": "code",
   "execution_count": 4,
   "id": "5ed52982",
   "metadata": {},
   "outputs": [
    {
     "name": "stdout",
     "output_type": "stream",
     "text": [
      "spam[-1] d\n"
     ]
    }
   ],
   "source": [
    "spam =['a','b','c','d']\n",
    "print('spam[-1]',spam[-1])"
   ]
  },
  {
   "cell_type": "raw",
   "id": "27dc31fe",
   "metadata": {},
   "source": [
    "5. What is the value of spam[:2]?\n",
    "A.'a','b'"
   ]
  },
  {
   "cell_type": "code",
   "execution_count": 5,
   "id": "5a7c5290",
   "metadata": {},
   "outputs": [
    {
     "name": "stdout",
     "output_type": "stream",
     "text": [
      "spam\n"
     ]
    },
    {
     "data": {
      "text/plain": [
       "['a', 'b']"
      ]
     },
     "execution_count": 5,
     "metadata": {},
     "output_type": "execute_result"
    }
   ],
   "source": [
    "spam=['a','b','c','d']\n",
    "print('spam')\n",
    "spam[:-2]\n"
   ]
  },
  {
   "cell_type": "markdown",
   "id": "79971c96",
   "metadata": {},
   "source": [
    "# Let's pretend bacon has the list [3.14,'cat',11,'cat',True] for the next three question"
   ]
  },
  {
   "cell_type": "raw",
   "id": "66d8d730",
   "metadata": {},
   "source": [
    "6. What is the value of bacon.index('cat')?\n",
    "A. 1"
   ]
  },
  {
   "cell_type": "code",
   "execution_count": 11,
   "id": "dc42ab11",
   "metadata": {},
   "outputs": [
    {
     "name": "stdout",
     "output_type": "stream",
     "text": [
      "bacon.index('cat') 1\n"
     ]
    }
   ],
   "source": [
    "bacon =[3.14,'cat',11,'cat',True]\n",
    "print(\"bacon.index('cat')\",bacon.index('cat'))"
   ]
  },
  {
   "cell_type": "code",
   "execution_count": null,
   "id": "f5850493",
   "metadata": {},
   "outputs": [],
   "source": [
    "7. How does bacon.append(99) change the look of the list value in bacon?\n",
    "A.[3.14, 'cat', 11, 'cat', True, 99]"
   ]
  },
  {
   "cell_type": "code",
   "execution_count": 16,
   "id": "0bfea911",
   "metadata": {},
   "outputs": [
    {
     "name": "stdout",
     "output_type": "stream",
     "text": [
      "[3.14, 'cat', 11, 'cat', True]\n",
      "[3.14, 'cat', 11, 'cat', True, 99]\n"
     ]
    }
   ],
   "source": [
    "bacon =[3.14,'cat',11,'cat',True]\n",
    "print(bacon)\n",
    "bacon.append(99)\n",
    "print(bacon)"
   ]
  },
  {
   "cell_type": "code",
   "execution_count": null,
   "id": "59ddb7a2",
   "metadata": {},
   "outputs": [],
   "source": [
    "8. How does bacon.remove('cat') change the look of the list in bacon?\n",
    "A. [3.14, 11, 'cat', True, 99]"
   ]
  },
  {
   "cell_type": "code",
   "execution_count": 17,
   "id": "619e2374",
   "metadata": {},
   "outputs": [
    {
     "name": "stdout",
     "output_type": "stream",
     "text": [
      "[3.14, 'cat', 11, 'cat', True, 99]\n",
      "[3.14, 11, 'cat', True, 99]\n"
     ]
    }
   ],
   "source": [
    "print(bacon)\n",
    "bacon.remove('cat')\n",
    "print(bacon)"
   ]
  },
  {
   "cell_type": "code",
   "execution_count": null,
   "id": "a3b5600f",
   "metadata": {},
   "outputs": [],
   "source": [
    "9.what are the list concatenation and list replication operations?\n",
    "A. the operation for list concentation is '+' and for list replication is '*'"
   ]
  },
  {
   "cell_type": "code",
   "execution_count": null,
   "id": "519b712f",
   "metadata": {},
   "outputs": [],
   "source": [
    "10.what is the difference between the list method append() and insert()?\n",
    "A. append()- adds the value at the end of the list.\n",
    "   insert()- adds the value anywhere in the list."
   ]
  },
  {
   "cell_type": "code",
   "execution_count": null,
   "id": "547e2974",
   "metadata": {},
   "outputs": [],
   "source": [
    "11. What are the two methods for removing items from a list?\n",
    "A. delete and remove()"
   ]
  },
  {
   "cell_type": "code",
   "execution_count": null,
   "id": "5cdffd9e",
   "metadata": {},
   "outputs": [],
   "source": [
    "12. Describe how list values and string values are identical.\n",
    "A. Both lists and strings can be passed to len() function, have indexes and slices, be used in for loops, \n",
    "be concatenated or replicated, and be used with the in and not in operators."
   ]
  },
  {
   "cell_type": "code",
   "execution_count": null,
   "id": "6b17b63e",
   "metadata": {},
   "outputs": [],
   "source": [
    "13. What's the difference between tuples and lists?\n",
    "A. Lists are Mutable, Indexable and Slicable. they can have values added, removed, or changed. \n",
    "Tuples are Immutable but Indexable and Slicable. the tuple values cannot be changed at all.\n",
    "Also, tuples are represented using parentheses, (), while lists use the square brackets, []."
   ]
  },
  {
   "cell_type": "code",
   "execution_count": null,
   "id": "b81432e9",
   "metadata": {},
   "outputs": [],
   "source": [
    "14. How do you type a tuple value that only contains the integer 42?\n",
    "A. (42,)"
   ]
  },
  {
   "cell_type": "code",
   "execution_count": 19,
   "id": "be2ef778",
   "metadata": {},
   "outputs": [
    {
     "data": {
      "text/plain": [
       "tuple"
      ]
     },
     "execution_count": 19,
     "metadata": {},
     "output_type": "execute_result"
    }
   ],
   "source": [
    "tup1=(42)\n",
    "type(tup1) \n",
    "tup2 =(42,)\n",
    "type(tup2)"
   ]
  },
  {
   "cell_type": "code",
   "execution_count": null,
   "id": "e81b700d",
   "metadata": {},
   "outputs": [],
   "source": [
    "15. How do you get a list value's tuple form? How do you get a tuple value's list form?\n",
    "A. we can convert list to tuple and tuple to list using list() and tuple() functions."
   ]
  },
  {
   "cell_type": "code",
   "execution_count": null,
   "id": "ed1cd47c",
   "metadata": {},
   "outputs": [],
   "source": [
    "16. Variables that \"contain\" list values are not necessarily lists themselves. Instead, what do they contain?\n",
    "A. They contain references to list values."
   ]
  },
  {
   "cell_type": "code",
   "execution_count": null,
   "id": "2e5c9d58",
   "metadata": {},
   "outputs": [],
   "source": [
    "17. How do you distinguish between copy.copy() and copy.deepcopy()?\n",
    "A. The copy.copy() function will do a shallow copy of a list, while the copy.deepcopy() function\n",
    "will do a deep copy of a list. That is, only copy.deepcopy() will duplicate any lists inside the list."
   ]
  }
 ],
 "metadata": {
  "kernelspec": {
   "display_name": "Python 3 (ipykernel)",
   "language": "python",
   "name": "python3"
  },
  "language_info": {
   "codemirror_mode": {
    "name": "ipython",
    "version": 3
   },
   "file_extension": ".py",
   "mimetype": "text/x-python",
   "name": "python",
   "nbconvert_exporter": "python",
   "pygments_lexer": "ipython3",
   "version": "3.9.13"
  }
 },
 "nbformat": 4,
 "nbformat_minor": 5
}
